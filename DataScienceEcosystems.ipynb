{
 "cells": [
  {
   "cell_type": "markdown",
   "id": "2dcbdc7b-3c36-413a-901d-8631678b4d2a",
   "metadata": {},
   "source": [
    "# Data Science Tools and Ecosystems"
   ]
  },
  {
   "cell_type": "markdown",
   "id": "e1df9f23-0806-42ae-b118-e539d6bd8615",
   "metadata": {
    "tags": []
   },
   "source": [
    "In this notebook, Data Science Tools and Ecosystem are summarized.\n"
   ]
  },
  {
   "cell_type": "markdown",
   "id": "204a2e11-f1db-4782-9c53-f4ac4117e43d",
   "metadata": {},
   "source": [
    "Some of the popular languages that Data Scientists use are:\n",
    "1. Python\n",
    "2. Java\n",
    "3. C++\n",
    "4. C\n",
    "5. R\n",
    "6. JS\n"
   ]
  },
  {
   "cell_type": "markdown",
   "id": "b65e045f-509c-4782-b656-08a53bf3efb3",
   "metadata": {},
   "source": [
    "Some of the commonly used libraries used by Data Scientists include:\n",
    "1. Pandas\n",
    "2. MatPlotLib\n",
    "3. Numpy\n",
    "4. Seaborn\n",
    "3. Keras\n",
    "4. Pytorch"
   ]
  },
  {
   "cell_type": "markdown",
   "id": "2e63775b-00f0-4b26-9c75-64d60244e04c",
   "metadata": {
    "tags": []
   },
   "source": [
    "__Objectives:__\n",
    "+ listed the popular languages used in solving data science problems\n",
    "+ listed popular libraries\n",
    "+ listed popular integrated development environments used by data scientist\n",
    "+ listed examples for arithmetic expressions"
   ]
  },
  {
   "cell_type": "markdown",
   "id": "6338370c-c159-48aa-82c2-6caab44a16f2",
   "metadata": {
    "tags": []
   },
   "source": [
    "|Data Science Tools|\n",
    "|------------------|\n",
    "|Pycharm|\n",
    "|RStudio|\n",
    "|Anaconda|\n",
    "|Julia|"
   ]
  },
  {
   "cell_type": "markdown",
   "id": "56230fdf-73de-45f3-945e-cfd412852db7",
   "metadata": {},
   "source": [
    "### Below are a few examples of evaluating arithmetic expressions in Python.\n",
    "2+3*6\n",
    "\n",
    "(5-9)+5\n",
    "\n",
    "4+2*6\n",
    "\n",
    "5*2/4\n"
   ]
  },
  {
   "cell_type": "code",
   "execution_count": 6,
   "id": "0e17efe1-9396-4f63-8d33-ccb947ae262d",
   "metadata": {
    "tags": []
   },
   "outputs": [
    {
     "data": {
      "text/plain": [
       "17"
      ]
     },
     "execution_count": 6,
     "metadata": {},
     "output_type": "execute_result"
    }
   ],
   "source": [
    " # This a simple arithmetic expression to mutiply then add integers\n",
    "(3*4)+5"
   ]
  },
  {
   "cell_type": "code",
   "execution_count": 7,
   "id": "e505a286-f6fc-475e-8285-c8c9da55a9fc",
   "metadata": {
    "tags": []
   },
   "outputs": [
    {
     "data": {
      "text/plain": [
       "3.3333333333333335"
      ]
     },
     "execution_count": 7,
     "metadata": {},
     "output_type": "execute_result"
    }
   ],
   "source": [
    "# This will convert 200 minutes to hours by diving by 60\n",
    "200/60"
   ]
  },
  {
   "cell_type": "markdown",
   "id": "85a125dc-a135-48ad-96fd-3f19abe5ea1c",
   "metadata": {
    "tags": []
   },
   "source": [
    "## Author\n",
    "Surya"
   ]
  },
  {
   "cell_type": "code",
   "execution_count": null,
   "id": "fd10c937-bfe2-4ba3-897c-2d9c62be11ea",
   "metadata": {},
   "outputs": [],
   "source": []
  }
 ],
 "metadata": {
  "kernelspec": {
   "display_name": "Python",
   "language": "python",
   "name": "conda-env-python-py"
  },
  "language_info": {
   "codemirror_mode": {
    "name": "ipython",
    "version": 3
   },
   "file_extension": ".py",
   "mimetype": "text/x-python",
   "name": "python",
   "nbconvert_exporter": "python",
   "pygments_lexer": "ipython3",
   "version": "3.7.12"
  }
 },
 "nbformat": 4,
 "nbformat_minor": 5
}
