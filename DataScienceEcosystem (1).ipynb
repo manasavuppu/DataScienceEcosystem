{
 "cells": [
  {
   "cell_type": "markdown",
   "id": "2dcbdc7b-3c36-413a-901d-8631678b4d2a",
   "metadata": {},
   "source": [
    "# Data Science Tools and Ecosystems"
   ]
  },
  {
   "cell_type": "markdown",
   "id": "994faa7c-a08e-49b2-b1f7-0ae70f5bcb57",
   "metadata": {},
   "source": [
    "In this notebook, Data Science Tools and Ecosystem are summarized.\n"
   ]
  },
  {
   "cell_type": "markdown",
   "id": "13691e0d-edcf-4c60-afe0-37a8ab19d89d",
   "metadata": {},
   "source": [
    "Some of the popular languages that Data Scientists use are:\n",
    "1. Python\n",
    "2. Java\n",
    "3. C++\n",
    "4. C\n",
    "5. R\n",
    "6. JS\n"
   ]
  },
  {
   "cell_type": "markdown",
   "id": "df36c803-dd1f-42d4-9be5-ad68a0f51ed1",
   "metadata": {},
   "source": [
    "__Objectives:__\n",
    "+ listed the popular languages used in solving data science problems\n",
    "+ listed popular libraries\n",
    "+ listed popular integrated development environments used by data scientist\n",
    "+ listed examples for arithmetic expressions"
   ]
  },
  {
   "cell_type": "markdown",
   "id": "44b09085-50d8-4750-af84-74dc6529cf06",
   "metadata": {},
   "source": [
    "Some of the commonly used libraries used by Data Scientists include:\n",
    "1. Pandas\n",
    "2. MatPlotLib\n",
    "3. Numpy\n",
    "4. Seaborn\n",
    "3. Keras\n",
    "4. Pytorch"
   ]
  },
  {
   "cell_type": "markdown",
   "id": "2aa5c478-d010-4470-85f8-2e0d6b4cee2a",
   "metadata": {},
   "source": [
    "|Data Science Tools|\n",
    "|------------------|\n",
    "|Pycharm|\n",
    "|RStudio|\n",
    "|Anaconda|\n",
    "|Julia|"
   ]
  },
  {
   "cell_type": "markdown",
   "id": "c4bed11c-33fb-4c25-a029-6cec3d9e3df1",
   "metadata": {},
   "source": [
    "### Below are a few examples of evaluating arithmetic expressions in Python.\n"
   ]
  },
  {
   "cell_type": "markdown",
   "id": "cb4fc755-9359-4edd-bd2c-ff3b3814356b",
   "metadata": {},
   "source": [
    "\n",
    "2+3*6\n",
    "\n",
    "(5-9)+5\n",
    "\n",
    "4+2*6\n",
    "\n",
    "5*2/4"
   ]
  },
  {
   "cell_type": "code",
   "execution_count": 2,
   "id": "a66ed659-f153-469e-bd7b-81cb4beef2f6",
   "metadata": {
    "tags": []
   },
   "outputs": [
    {
     "data": {
      "text/plain": [
       "17"
      ]
     },
     "execution_count": 2,
     "metadata": {},
     "output_type": "execute_result"
    }
   ],
   "source": [
    " # This a simple arithmetic expression to mutiply then add integers\n",
    "(3*4)+5"
   ]
  },
  {
   "cell_type": "code",
   "execution_count": 3,
   "id": "8e82819e-9b2f-4078-b9a1-91905a642385",
   "metadata": {
    "tags": []
   },
   "outputs": [
    {
     "data": {
      "text/plain": [
       "3.3333333333333335"
      ]
     },
     "execution_count": 3,
     "metadata": {},
     "output_type": "execute_result"
    }
   ],
   "source": [
    "# This will convert 200 minutes to hours by diving by 60\n",
    "200/60"
   ]
  },
  {
   "cell_type": "markdown",
   "id": "52616bc3-0e76-4637-baea-28bf8b5efa7d",
   "metadata": {},
   "source": [
    "## Author\n",
    "Surya"
   ]
  }
 ],
 "metadata": {
  "kernelspec": {
   "display_name": "Python",
   "language": "python",
   "name": "conda-env-python-py"
  },
  "language_info": {
   "codemirror_mode": {
    "name": "ipython",
    "version": 3
   },
   "file_extension": ".py",
   "mimetype": "text/x-python",
   "name": "python",
   "nbconvert_exporter": "python",
   "pygments_lexer": "ipython3",
   "version": "3.7.12"
  }
 },
 "nbformat": 4,
 "nbformat_minor": 5
}
